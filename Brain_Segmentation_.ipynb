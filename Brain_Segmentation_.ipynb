{
  "nbformat": 4,
  "nbformat_minor": 0,
  "metadata": {
    "colab": {
      "provenance": [],
      "authorship_tag": "ABX9TyMcnzLodZ5Oq5/F8ZGKH6LR",
      "include_colab_link": true
    },
    "kernelspec": {
      "name": "python3",
      "display_name": "Python 3"
    },
    "language_info": {
      "name": "python"
    }
  },
  "cells": [
    {
      "cell_type": "markdown",
      "metadata": {
        "id": "view-in-github",
        "colab_type": "text"
      },
      "source": [
        "<a href=\"https://colab.research.google.com/github/HoussemDs/Brain-Segmentation-3D-Monai/blob/main/Brain_Segmentation_.ipynb\" target=\"_parent\"><img src=\"https://colab.research.google.com/assets/colab-badge.svg\" alt=\"Open In Colab\"/></a>"
      ]
    },
    {
      "cell_type": "markdown",
      "source": [
        "# Brain tumor 3D segmentation with Monai\n",
        "this notebook will define a workflow of a multi-labels segmentation"
      ],
      "metadata": {
        "id": "mJuJPkaXI-ck"
      }
    },
    {
      "cell_type": "markdown",
      "source": [
        "in this notebook will will tackle a lot of things from them we have\n",
        "1. Transforms for dictionary format data\n",
        "2. Define a new transformation using Monai\n",
        "3. Load Nifti image with metadata , load a list of images and stack them\n",
        "4. augment the data\n",
        "5. Cache IO and transforms to accelerate training and validation\n",
        "6. 3D SegResNet model, Dice loss function, Mean Dice metric for 3D segmentation task\n",
        "7. Deterministic training for reproducibility\n"
      ],
      "metadata": {
        "id": "BN1yMg3LJnIi"
      }
    },
    {
      "cell_type": "markdown",
      "source": [
        "the data comes form \"http://medicaldecathlon.com/\"\n",
        "(one of the best medical dataset sources that i personally loves so much)"
      ],
      "metadata": {
        "id": "M99URjWEKjL5"
      }
    },
    {
      "cell_type": "markdown",
      "source": [
        "okay so enough yapping let's start:\n",
        "\n",
        "\n",
        "*   **Target**: Gliomas segmentation necrotic/active tumour and oedema\n",
        "*   **Modality**: Multimodal multisite MRI data (FLAIR, T1w, T1gd, T2w)\n",
        "*   **Size**: 750 4D (484 Traning + 266 Testing)\n",
        "*   **Source**: BRATS 2016 and 2017 datasets.\n",
        "*   **Challenge**: Complex and heterogeneously-located targets\n",
        "\n",
        "\n",
        "\n",
        "\n"
      ],
      "metadata": {
        "id": "z_i1M4EoK4Wc"
      }
    },
    {
      "cell_type": "code",
      "source": [],
      "metadata": {
        "id": "LCkT4TVVK36t"
      },
      "execution_count": null,
      "outputs": []
    }
  ]
}